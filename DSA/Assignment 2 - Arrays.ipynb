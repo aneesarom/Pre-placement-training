{
 "cells": [
  {
   "cell_type": "markdown",
   "id": "16e7a2ce",
   "metadata": {},
   "source": [
    "# 💡 **Question 1**\n",
    "```\n",
    "Given an integer array nums of 2n integers, group these integers into n pairs (a1, b1), (a2, b2),..., (an, bn) such that the sum of min(ai, bi) for all i is maximized. Return the maximized sum.\n",
    "\n",
    "**Example 1:**\n",
    "Input: nums = [1,4,3,2]\n",
    "Output: 4\n",
    "\n",
    "**Explanation:** All possible pairings (ignoring the ordering of elements) are:\n",
    "\n",
    "1. (1, 4), (2, 3) -> min(1, 4) + min(2, 3) = 1 + 2 = 3\n",
    "2. (1, 3), (2, 4) -> min(1, 3) + min(2, 4) = 1 + 2 = 3\n",
    "3. (1, 2), (3, 4) -> min(1, 2) + min(3, 4) = 1 + 3 = 4\n",
    "So the maximum possible sum is 4\n",
    "```"
   ]
  },
  {
   "cell_type": "markdown",
   "id": "c137215c",
   "metadata": {},
   "source": [
    "# Question 2\n",
    "\n",
    "Alice has n candies, where the ith candy is of type candyType[i]. Alice noticed that she started to gain weight, so she visited a doctor. \n",
    "\n",
    "The doctor advised Alice to only eat n / 2 of the candies she has (n is always even). Alice likes her candies very much, and she wants to eat the maximum number of different types of candies while still following the doctor's advice. \n",
    "\n",
    "Given the integer array candyType of length n, return the maximum number of different types of candies she can eat if she only eats n / 2 of them.\n",
    "\n",
    "Example 1:\n",
    "Input: candyType = [1,1,2,2,3,3]\n",
    "Output: 3\n",
    "\n",
    "Explanation: Alice can only eat 6 / 2 = 3 candies. Since there are only 3 types, she can eat one of each type."
   ]
  },
  {
   "cell_type": "code",
   "execution_count": 13,
   "id": "f879b3dc",
   "metadata": {},
   "outputs": [],
   "source": [
    "def candy_to_eat(li):\n",
    "    num_of_types = len(set(li))\n",
    "    if num_of_types < int(len(li)/2):\n",
    "        return num_of_types\n",
    "    else:\n",
    "        return len(li)//2"
   ]
  },
  {
   "cell_type": "code",
   "execution_count": 14,
   "id": "45d9a16d",
   "metadata": {},
   "outputs": [
    {
     "data": {
      "text/plain": [
       "3"
      ]
     },
     "execution_count": 14,
     "metadata": {},
     "output_type": "execute_result"
    }
   ],
   "source": [
    "candy_to_eat([1,1,2,2,3,3])"
   ]
  },
  {
   "cell_type": "markdown",
   "id": "554944f5",
   "metadata": {},
   "source": [
    "# Question 5\n",
    "Given an integer array nums, find three numbers whose product is maximum and return the maximum product.\n",
    "\n",
    "Example 1:\n",
    "\n",
    "Input: nums = [1,2,3]\n",
    "\n",
    "Output: 6"
   ]
  },
  {
   "cell_type": "code",
   "execution_count": 36,
   "id": "e5f7ef6c",
   "metadata": {},
   "outputs": [],
   "source": [
    "def max_multiply(li):\n",
    "    max_product = float(\"-inf\")\n",
    "    for i in range(len(li)):\n",
    "        for j in range(len(li)):\n",
    "            if i != j:\n",
    "                for k in range(len(li)):\n",
    "                    if k != i and k != j:\n",
    "                        product = li[j]*li[i]*li[k]\n",
    "                        if max_product < product:\n",
    "                            max_product = product\n",
    "    return max_product"
   ]
  },
  {
   "cell_type": "code",
   "execution_count": 37,
   "id": "9f36525a",
   "metadata": {},
   "outputs": [
    {
     "data": {
      "text/plain": [
       "6"
      ]
     },
     "execution_count": 37,
     "metadata": {},
     "output_type": "execute_result"
    }
   ],
   "source": [
    "max_multiply([1,2,3])"
   ]
  },
  {
   "cell_type": "markdown",
   "id": "f3f87603",
   "metadata": {},
   "source": [
    "# Question 6\n",
    "\n",
    "Given an array of integers nums which is sorted in ascending order, and an integer target,\n",
    "write a function to search target in nums. If target exists, then return its index. Otherwise,\n",
    "return -1.\n",
    "\n",
    "You must write an algorithm with O(log n) runtime complexity.\n",
    "\n",
    "Input: nums = [-1,0,3,5,9,12], target = 9\n",
    "Output: 4\n",
    "\n",
    "Explanation: 9 exists in nums and its index is 4"
   ]
  },
  {
   "cell_type": "code",
   "execution_count": 38,
   "id": "a90c9eb6",
   "metadata": {},
   "outputs": [],
   "source": [
    "def find_num_and_index(nums, target):\n",
    "    if target in nums:\n",
    "        index = nums.index(target)\n",
    "        return index"
   ]
  },
  {
   "cell_type": "code",
   "execution_count": 40,
   "id": "c2a58944",
   "metadata": {},
   "outputs": [
    {
     "data": {
      "text/plain": [
       "4"
      ]
     },
     "execution_count": 40,
     "metadata": {},
     "output_type": "execute_result"
    }
   ],
   "source": [
    "find_num_and_index(nums = [-1,0,3,5,9,12], target = 9)"
   ]
  },
  {
   "cell_type": "markdown",
   "id": "e15a178e",
   "metadata": {},
   "source": [
    "# Question 7\n",
    "An array is monotonic if it is either monotone increasing or monotone decreasing.\n",
    "\n",
    "An array nums is monotone increasing if for all i <= j, nums[i] <= nums[j]. An array nums is\n",
    "monotone decreasing if for all i <= j, nums[i] >= nums[j].\n",
    "\n",
    "Given an integer array nums, return true if the given array is monotonic, or false otherwise.\n",
    "\n",
    "Example 1:\n",
    "Input: nums = [1,2,2,3]\n",
    "Output: true"
   ]
  },
  {
   "cell_type": "code",
   "execution_count": 42,
   "id": "d8f793de",
   "metadata": {},
   "outputs": [],
   "source": [
    "def check_monotonic(nums):\n",
    "    x, y = [], []\n",
    "    x.extend(nums)\n",
    "    y.extend(nums)\n",
    "    x.sort()\n",
    "    y.sort(reverse=True)\n",
    "    if x == nums or y == nums:\n",
    "        return True\n",
    "    else:\n",
    "        return False"
   ]
  },
  {
   "cell_type": "code",
   "execution_count": 46,
   "id": "9c2fc469",
   "metadata": {},
   "outputs": [
    {
     "data": {
      "text/plain": [
       "True"
      ]
     },
     "execution_count": 46,
     "metadata": {},
     "output_type": "execute_result"
    }
   ],
   "source": [
    "check_monotonic(nums = [1,2,2,3])"
   ]
  },
  {
   "cell_type": "code",
   "execution_count": null,
   "id": "920c114f",
   "metadata": {},
   "outputs": [],
   "source": []
  }
 ],
 "metadata": {
  "kernelspec": {
   "display_name": "Python 3 (ipykernel)",
   "language": "python",
   "name": "python3"
  },
  "language_info": {
   "codemirror_mode": {
    "name": "ipython",
    "version": 3
   },
   "file_extension": ".py",
   "mimetype": "text/x-python",
   "name": "python",
   "nbconvert_exporter": "python",
   "pygments_lexer": "ipython3",
   "version": "3.8.16"
  }
 },
 "nbformat": 4,
 "nbformat_minor": 5
}
