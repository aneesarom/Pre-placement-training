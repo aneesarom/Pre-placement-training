{
 "cells": [
  {
   "cell_type": "markdown",
   "id": "16e7a2ce",
   "metadata": {},
   "source": [
    "# Question 1\n",
    "```\n",
    "Given an integer array nums of 2n integers, group these integers into n pairs (a1, b1), (a2, b2),..., (an, bn) such that the sum of min(ai, bi) for all i is maximized. Return the maximized sum.\n",
    "\n",
    "**Example 1:**\n",
    "Input: nums = [1,4,3,2]\n",
    "Output: 4\n",
    "\n",
    "**Explanation:** All possible pairings (ignoring the ordering of elements) are:\n",
    "\n",
    "1. (1, 4), (2, 3) -> min(1, 4) + min(2, 3) = 1 + 2 = 3\n",
    "2. (1, 3), (2, 4) -> min(1, 3) + min(2, 4) = 1 + 2 = 3\n",
    "3. (1, 2), (3, 4) -> min(1, 2) + min(3, 4) = 1 + 3 = 4\n",
    "So the maximum possible sum is 4\n",
    "```"
   ]
  },
  {
   "cell_type": "markdown",
   "id": "7eb78357",
   "metadata": {},
   "source": [
    "# Question 2\n",
    "\n",
    "Alice has n candies, where the ith candy is of type candyType[i]. Alice noticed that she started to gain weight, so she visited a doctor. \n",
    "\n",
    "The doctor advised Alice to only eat n / 2 of the candies she has (n is always even). Alice likes her candies very much, and she wants to eat the maximum number of different types of candies while still following the doctor's advice. \n",
    "\n",
    "Given the integer array candyType of length n, return the maximum number of different types of candies she can eat if she only eats n / 2 of them.\n",
    "\n",
    "Example 1:\n",
    "Input: candyType = [1,1,2,2,3,3]\n",
    "Output: 3\n",
    "\n",
    "Explanation: Alice can only eat 6 / 2 = 3 candies. Since there are only 3 types, she can eat one of each type."
   ]
  },
  {
   "cell_type": "code",
   "execution_count": 1,
   "id": "403a4fe3",
   "metadata": {},
   "outputs": [],
   "source": [
    "def candy_to_eat(li):\n",
    "    num_of_types = len(set(li))\n",
    "    return min(num_of_types, len(li)//2)"
   ]
  },
  {
   "cell_type": "code",
   "execution_count": 2,
   "id": "3a882981",
   "metadata": {},
   "outputs": [
    {
     "data": {
      "text/plain": [
       "3"
      ]
     },
     "execution_count": 2,
     "metadata": {},
     "output_type": "execute_result"
    }
   ],
   "source": [
    "candy_to_eat([1,1,2,2,3,3])"
   ]
  },
  {
   "cell_type": "markdown",
   "id": "71067180",
   "metadata": {},
   "source": [
    "# Question 3\n",
    "\n",
    "We define a harmonious array as an array where the difference between its maximum value\n",
    "and its minimum value is exactly 1.\n",
    "\n",
    "Given an integer array nums, return the length of its longest harmonious subsequence\n",
    "among all its possible subsequences.\n",
    "\n",
    "A subsequence of an array is a sequence that can be derived from the array by deleting some or no elements without changing the order of the remaining elements.\n",
    "\n",
    "Example 1:\n",
    "\n",
    "Input: nums = [1,3,2,2,5,2,3,7]\n",
    "\n",
    "Output: 5\n",
    "\n",
    "Explanation: The longest harmonious subsequence is [3,2,2,2,3]."
   ]
  },
  {
   "cell_type": "code",
   "execution_count": 84,
   "id": "c6250eae",
   "metadata": {},
   "outputs": [],
   "source": [
    "def harmonious_array(nums):\n",
    "    max_length = 0\n",
    "    min_num = 0\n",
    "    max_num = 0\n",
    "    last_num = nums[0]\n",
    "    for i in nums:\n",
    "        x = []\n",
    "        x.extend(nums)\n",
    "        if last_num-i == 1 or i-last_num == 1:\n",
    "            min_num = min([last_num, i])\n",
    "            max_num = max([last_num, i])\n",
    "            last_num = i\n",
    "            for j in nums:\n",
    "                if j != min_num and j != max_num:\n",
    "                    x.remove(j) \n",
    "            length = len(x)\n",
    "            if length > max_length:\n",
    "                max_length = length\n",
    "    return max_length"
   ]
  },
  {
   "cell_type": "code",
   "execution_count": 88,
   "id": "14161bac",
   "metadata": {},
   "outputs": [
    {
     "data": {
      "text/plain": [
       "5"
      ]
     },
     "execution_count": 88,
     "metadata": {},
     "output_type": "execute_result"
    }
   ],
   "source": [
    "harmonious_array([1,3,2,2,5,2,3,7])"
   ]
  },
  {
   "cell_type": "markdown",
   "id": "43c7d4ac",
   "metadata": {},
   "source": [
    "# Question 4\n",
    "\n",
    "You have a long flowerbed in which some of the plots are planted, and some are not.\n",
    "However, flowers cannot be planted in adjacent plots.\n",
    "\n",
    "Given an integer array flowerbed containing 0's and 1's, where 0 means empty and 1 means not empty, and an integer n, return true if n new flowers can be planted in the flowerbed without violating the no-adjacent-flowers rule and false otherwise.\n",
    "\n",
    "Example 1:\n",
    "\n",
    "Input: flowerbed = [1,0,0,0,1], n = 1\n",
    "\n",
    "Output: true"
   ]
  },
  {
   "cell_type": "code",
   "execution_count": 39,
   "id": "40b554a4",
   "metadata": {},
   "outputs": [],
   "source": [
    "def flowerbed_check(flowerbed, n):\n",
    "    last_num = flowerbed[0]\n",
    "    for i, flower in enumerate(flowerbed):\n",
    "        if last_num == 0 and flower != 1:\n",
    "            if n != 0:\n",
    "                flowerbed[i] = 1\n",
    "                n -=1\n",
    "                last_num = 1\n",
    "            else:\n",
    "                return True\n",
    "        else:\n",
    "            last_num = flower\n",
    "    if n == 0:\n",
    "        return True\n",
    "    else:\n",
    "        return False\n"
   ]
  },
  {
   "cell_type": "code",
   "execution_count": 40,
   "id": "fc6454e2",
   "metadata": {},
   "outputs": [
    {
     "data": {
      "text/plain": [
       "True"
      ]
     },
     "execution_count": 40,
     "metadata": {},
     "output_type": "execute_result"
    }
   ],
   "source": [
    "flowerbed_check(flowerbed = [1,0,0,0,1], n = 1)"
   ]
  },
  {
   "cell_type": "markdown",
   "id": "df65372b",
   "metadata": {},
   "source": [
    "# Question 5\n",
    "Given an integer array nums, find three numbers whose product is maximum and return the maximum product.\n",
    "\n",
    "Example 1:\n",
    "\n",
    "Input: nums = [1,2,3]\n",
    "\n",
    "Output: 6"
   ]
  },
  {
   "cell_type": "code",
   "execution_count": 36,
   "id": "aae68c3e",
   "metadata": {},
   "outputs": [],
   "source": [
    "def max_multiply(li):\n",
    "    max_product = float(\"-inf\")\n",
    "    for i in range(len(li)):\n",
    "        for j in range(len(li)):\n",
    "            if i != j:\n",
    "                for k in range(len(li)):\n",
    "                    if k != i and k != j:\n",
    "                        product = li[j]*li[i]*li[k]\n",
    "                        if max_product < product:\n",
    "                            max_product = product\n",
    "    return max_product"
   ]
  },
  {
   "cell_type": "code",
   "execution_count": 37,
   "id": "0c2ea7ec",
   "metadata": {},
   "outputs": [
    {
     "data": {
      "text/plain": [
       "6"
      ]
     },
     "execution_count": 37,
     "metadata": {},
     "output_type": "execute_result"
    }
   ],
   "source": [
    "max_multiply([1,2,3])"
   ]
  },
  {
   "cell_type": "markdown",
   "id": "ce44eb82",
   "metadata": {},
   "source": [
    "# Question 6\n",
    "\n",
    "Given an array of integers nums which is sorted in ascending order, and an integer target,\n",
    "write a function to search target in nums. If target exists, then return its index. Otherwise,\n",
    "return -1.\n",
    "\n",
    "You must write an algorithm with O(log n) runtime complexity.\n",
    "\n",
    "Input: nums = [-1,0,3,5,9,12], target = 9\n",
    "Output: 4\n",
    "\n",
    "Explanation: 9 exists in nums and its index is 4"
   ]
  },
  {
   "cell_type": "code",
   "execution_count": 38,
   "id": "9e82e0b5",
   "metadata": {},
   "outputs": [],
   "source": [
    "def find_num_and_index(nums, target):\n",
    "    if target in nums:\n",
    "        index = nums.index(target)\n",
    "        return index"
   ]
  },
  {
   "cell_type": "code",
   "execution_count": 40,
   "id": "de643ba5",
   "metadata": {},
   "outputs": [
    {
     "data": {
      "text/plain": [
       "4"
      ]
     },
     "execution_count": 40,
     "metadata": {},
     "output_type": "execute_result"
    }
   ],
   "source": [
    "find_num_and_index(nums = [-1,0,3,5,9,12], target = 9)"
   ]
  },
  {
   "cell_type": "markdown",
   "id": "cc2befe6",
   "metadata": {},
   "source": [
    "# Question 7\n",
    "An array is monotonic if it is either monotone increasing or monotone decreasing.\n",
    "\n",
    "An array nums is monotone increasing if for all i <= j, nums[i] <= nums[j]. An array nums is\n",
    "monotone decreasing if for all i <= j, nums[i] >= nums[j].\n",
    "\n",
    "Given an integer array nums, return true if the given array is monotonic, or false otherwise.\n",
    "\n",
    "Example 1:\n",
    "Input: nums = [1,2,2,3]\n",
    "Output: true"
   ]
  },
  {
   "cell_type": "code",
   "execution_count": 42,
   "id": "d362cc2b",
   "metadata": {},
   "outputs": [],
   "source": [
    "def check_monotonic(nums):\n",
    "    x, y = [], []\n",
    "    x.extend(nums)\n",
    "    y.extend(nums)\n",
    "    x.sort()\n",
    "    y.sort(reverse=True)\n",
    "    if x == nums or y == nums:\n",
    "        return True\n",
    "    else:\n",
    "        return False"
   ]
  },
  {
   "cell_type": "code",
   "execution_count": 46,
   "id": "4ea31aef",
   "metadata": {},
   "outputs": [
    {
     "data": {
      "text/plain": [
       "True"
      ]
     },
     "execution_count": 46,
     "metadata": {},
     "output_type": "execute_result"
    }
   ],
   "source": [
    "check_monotonic(nums = [1,2,2,3])"
   ]
  },
  {
   "cell_type": "markdown",
   "id": "e3091dd9",
   "metadata": {},
   "source": [
    "# Question 8\n",
    "You are given an integer array nums and an integer k.\n",
    "\n",
    "In one operation, you can choose any index i where 0 <= i < nums.length and change nums[i] to nums[i] + x where x is an integer from the range [-k, k]. You can apply this operation at most once for each index i.\n",
    "\n",
    "The score of nums is the difference between the maximum and minimum elements in nums.\n",
    "\n",
    "Return the minimum score of nums after applying the mentioned operation at most once for each index in it.\n",
    "\n",
    "Example 1:\n",
    "Input: nums = [1], k = 0\n",
    "Output: 0\n",
    "\n",
    "Explanation: The score is max(nums) - min(nums) = 1 - 1 = 0."
   ]
  },
  {
   "cell_type": "code",
   "execution_count": null,
   "id": "69a03a60",
   "metadata": {},
   "outputs": [],
   "source": []
  }
 ],
 "metadata": {
  "kernelspec": {
   "display_name": "Python 3 (ipykernel)",
   "language": "python",
   "name": "python3"
  },
  "language_info": {
   "codemirror_mode": {
    "name": "ipython",
    "version": 3
   },
   "file_extension": ".py",
   "mimetype": "text/x-python",
   "name": "python",
   "nbconvert_exporter": "python",
   "pygments_lexer": "ipython3",
   "version": "3.8.16"
  }
 },
 "nbformat": 4,
 "nbformat_minor": 5
}
