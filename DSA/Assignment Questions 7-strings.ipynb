{
 "cells": [
  {
   "cell_type": "markdown",
   "id": "8e22042a",
   "metadata": {},
   "source": [
    "# 💡 **Question 1**\n",
    "\n",
    "Given two strings s and t, *determine if they are isomorphic*.\n",
    "\n",
    "Two strings s and t are isomorphic if the characters in s can be replaced to get t.\n",
    "\n",
    "All occurrences of a character must be replaced with another character while preserving the order of characters. No two characters may map to the same character, but a character may map to itself.\n",
    "\n",
    "**Example 1:**\n",
    "\n",
    "**Input:** s = \"egg\", t = \"add\"\n",
    "\n",
    "**Output:** true"
   ]
  },
  {
   "cell_type": "code",
   "execution_count": 22,
   "id": "d9bb88a7",
   "metadata": {},
   "outputs": [],
   "source": [
    "def isomorphic(s, t):\n",
    "    if len(s) == len(t):\n",
    "        for i, char in enumerate(s):\n",
    "            s = s.replace(char, t[i])\n",
    "        if s == t:\n",
    "            return True\n",
    "        else: \n",
    "            return False     \n",
    "    else:\n",
    "        return False"
   ]
  },
  {
   "cell_type": "code",
   "execution_count": 23,
   "id": "c3698e16",
   "metadata": {},
   "outputs": [
    {
     "data": {
      "text/plain": [
       "False"
      ]
     },
     "execution_count": 23,
     "metadata": {},
     "output_type": "execute_result"
    }
   ],
   "source": [
    "isomorphic(\"foo\", \"bar\")"
   ]
  },
  {
   "cell_type": "code",
   "execution_count": 24,
   "id": "ebe31e31",
   "metadata": {},
   "outputs": [
    {
     "data": {
      "text/plain": [
       "True"
      ]
     },
     "execution_count": 24,
     "metadata": {},
     "output_type": "execute_result"
    }
   ],
   "source": [
    "isomorphic(\"egg\", \"add\")"
   ]
  },
  {
   "cell_type": "markdown",
   "id": "a167ee0c",
   "metadata": {},
   "source": [
    "# 💡 **Question 2**\n",
    "\n",
    "Given a string num which represents an integer, return true *if* num *is a **strobogrammatic number***.\n",
    "\n",
    "A **strobogrammatic number** is a number that looks the same when rotated 180 degrees (looked at upside down).\n",
    "\n",
    "**Example 1:**\n",
    "\n",
    "**Input:** num = \"69\"\n",
    "\n",
    "**Output:**\n",
    "\n",
    "true"
   ]
  },
  {
   "cell_type": "code",
   "execution_count": 27,
   "id": "819d1cc0",
   "metadata": {},
   "outputs": [],
   "source": [
    "def strobogrammatic_number(string):\n",
    "    strobogrammatic_number = [0, 1, 6, 8, 9]\n",
    "    count = 0\n",
    "    for char in string:\n",
    "        if int(char) in strobogrammatic_number:\n",
    "            count += 1\n",
    "    if count == len(string):\n",
    "        return True\n",
    "    else:\n",
    "        return False"
   ]
  },
  {
   "cell_type": "code",
   "execution_count": 28,
   "id": "cc06dc38",
   "metadata": {},
   "outputs": [
    {
     "data": {
      "text/plain": [
       "True"
      ]
     },
     "execution_count": 28,
     "metadata": {},
     "output_type": "execute_result"
    }
   ],
   "source": [
    "strobogrammatic_number(\"69\")"
   ]
  },
  {
   "cell_type": "code",
   "execution_count": 29,
   "id": "dd639456",
   "metadata": {},
   "outputs": [
    {
     "data": {
      "text/plain": [
       "True"
      ]
     },
     "execution_count": 29,
     "metadata": {},
     "output_type": "execute_result"
    }
   ],
   "source": [
    "strobogrammatic_number(\"19\")"
   ]
  },
  {
   "cell_type": "markdown",
   "id": "2bd60d2c",
   "metadata": {},
   "source": [
    "# 💡 **Question 3**\n",
    "\n",
    "Given two non-negative integers, num1 and num2 represented as string, return *the sum of* num1 *and* num2 *as a string*.\n",
    "\n",
    "You must solve the problem without using any built-in library for handling large integers (such as BigInteger). You must also not convert the inputs to integers directly.\n",
    "\n",
    "**Example 1:**\n",
    "\n",
    "**Input:** num1 = \"11\", num2 = \"123\"\n",
    "\n",
    "**Output:**\n",
    "\n",
    "\"134\""
   ]
  },
  {
   "cell_type": "code",
   "execution_count": 52,
   "id": "052aa239",
   "metadata": {},
   "outputs": [],
   "source": [
    "def sum_of_string(num1, num2):\n",
    "    num1 = list(num1)\n",
    "    num2 = list(num2)\n",
    "    max_num = max(len(num1), len(num2))\n",
    "    for i in range(max_num-1, -1, -1):\n",
    "        num2[i] + num1[i]"
   ]
  },
  {
   "cell_type": "code",
   "execution_count": 53,
   "id": "3a3fcedc",
   "metadata": {},
   "outputs": [
    {
     "name": "stdout",
     "output_type": "stream",
     "text": [
      "2\n",
      "1\n",
      "0\n"
     ]
    }
   ],
   "source": [
    "sum_of_string(\"11\", \"123\")"
   ]
  },
  {
   "cell_type": "markdown",
   "id": "66819aab",
   "metadata": {},
   "source": [
    "# 💡 **Question 4**\n",
    "\n",
    "Given a string s, reverse the order of characters in each word within a sentence while still preserving whitespace and initial word order.\n",
    "\n",
    "**Example 1:**\n",
    "\n",
    "**Input:** s = \"Let's take LeetCode contest\"\n",
    "\n",
    "**Output:** \"s'teL ekat edoCteeL tsetnoc\""
   ]
  },
  {
   "cell_type": "code",
   "execution_count": 60,
   "id": "8b5beacf",
   "metadata": {},
   "outputs": [],
   "source": [
    "def string_reverse(string):\n",
    "    new_string = \"\"\n",
    "    string_list = string.split(\" \")\n",
    "    for word in string_list:\n",
    "        new_string += word[::-1] + \" \"\n",
    "    return new_string"
   ]
  },
  {
   "cell_type": "code",
   "execution_count": 61,
   "id": "2cbc9d32",
   "metadata": {},
   "outputs": [
    {
     "data": {
      "text/plain": [
       "\"s'teL ekat edoCteeL tsetnoc \""
      ]
     },
     "execution_count": 61,
     "metadata": {},
     "output_type": "execute_result"
    }
   ],
   "source": [
    "string_reverse(\"Let's take LeetCode contest\")"
   ]
  },
  {
   "cell_type": "markdown",
   "id": "d755c0a6",
   "metadata": {},
   "source": [
    "# 💡 **Question 5**\n",
    "\n",
    "Given a string s and an integer k, reverse the first k characters for every 2k characters counting from the start of the string.\n",
    "\n",
    "If there are fewer than k characters left, reverse all of them. If there are less than 2k but greater than or equal to k characters, then reverse the first k characters and leave the other as original.\n",
    "\n",
    "**Example 1:**\n",
    "\n",
    "**Input:** s = \"abcdefg\", k = 2\n",
    "\n",
    "**Output:**\n",
    "\n",
    "\"bacdfeg\""
   ]
  },
  {
   "cell_type": "code",
   "execution_count": 106,
   "id": "3b2096f1",
   "metadata": {},
   "outputs": [],
   "source": [
    "def string_k(string, k):\n",
    "    new_string = \"\"\n",
    "    count = 0\n",
    "    flag = True\n",
    "    for i, char in enumerate(string):\n",
    "        if i % k == 0:\n",
    "            if flag:\n",
    "                new_string += string[i:i+k][::-1]\n",
    "                flag = False\n",
    "            else:\n",
    "                new_string += string[i:i+k]\n",
    "                flag = True\n",
    "    return new_string"
   ]
  },
  {
   "cell_type": "code",
   "execution_count": 108,
   "id": "1142ec80",
   "metadata": {},
   "outputs": [
    {
     "data": {
      "text/plain": [
       "'cbadefg'"
      ]
     },
     "execution_count": 108,
     "metadata": {},
     "output_type": "execute_result"
    }
   ],
   "source": [
    "string_k(\"abcdefg\", 3)"
   ]
  },
  {
   "cell_type": "markdown",
   "id": "4dc6339d",
   "metadata": {},
   "source": [
    "# 💡 **Question 6**\n",
    "\n",
    "Given two strings s and goal, return true *if and only if* s *can become* goal *after some number of **shifts** on* s.\n",
    "\n",
    "A **shift** on s consists of moving the leftmost character of s to the rightmost position.\n",
    "\n",
    "- For example, if s = \"abcde\", then it will be \"bcdea\" after one shift.\n",
    "\n",
    "**Example 1:**\n",
    "\n",
    "**Input:** s = \"abcde\", goal = \"cdeab\"\n",
    "\n",
    "**Output:**\n",
    "\n",
    "true"
   ]
  },
  {
   "cell_type": "code",
   "execution_count": null,
   "id": "c5711d6d",
   "metadata": {},
   "outputs": [],
   "source": [
    "def "
   ]
  }
 ],
 "metadata": {
  "kernelspec": {
   "display_name": "Python 3 (ipykernel)",
   "language": "python",
   "name": "python3"
  },
  "language_info": {
   "codemirror_mode": {
    "name": "ipython",
    "version": 3
   },
   "file_extension": ".py",
   "mimetype": "text/x-python",
   "name": "python",
   "nbconvert_exporter": "python",
   "pygments_lexer": "ipython3",
   "version": "3.8.16"
  }
 },
 "nbformat": 4,
 "nbformat_minor": 5
}
