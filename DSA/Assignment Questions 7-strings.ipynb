{
 "cells": [
  {
   "cell_type": "markdown",
   "id": "8e22042a",
   "metadata": {},
   "source": [
    "# 💡 **Question 1**\n",
    "\n",
    "Given two strings s and t, *determine if they are isomorphic*.\n",
    "\n",
    "Two strings s and t are isomorphic if the characters in s can be replaced to get t.\n",
    "\n",
    "All occurrences of a character must be replaced with another character while preserving the order of characters. No two characters may map to the same character, but a character may map to itself.\n",
    "\n",
    "**Example 1:**\n",
    "\n",
    "**Input:** s = \"egg\", t = \"add\"\n",
    "\n",
    "**Output:** true"
   ]
  },
  {
   "cell_type": "code",
   "execution_count": 22,
   "id": "d9bb88a7",
   "metadata": {},
   "outputs": [],
   "source": [
    "def isomorphic(s, t):\n",
    "    if len(s) == len(t):\n",
    "        for i, char in enumerate(s):\n",
    "            s = s.replace(char, t[i])\n",
    "        if s == t:\n",
    "            return True\n",
    "        else: \n",
    "            return False     \n",
    "    else:\n",
    "        return False"
   ]
  },
  {
   "cell_type": "code",
   "execution_count": 23,
   "id": "c3698e16",
   "metadata": {},
   "outputs": [
    {
     "data": {
      "text/plain": [
       "False"
      ]
     },
     "execution_count": 23,
     "metadata": {},
     "output_type": "execute_result"
    }
   ],
   "source": [
    "isomorphic(\"foo\", \"bar\")"
   ]
  },
  {
   "cell_type": "code",
   "execution_count": 24,
   "id": "ebe31e31",
   "metadata": {},
   "outputs": [
    {
     "data": {
      "text/plain": [
       "True"
      ]
     },
     "execution_count": 24,
     "metadata": {},
     "output_type": "execute_result"
    }
   ],
   "source": [
    "isomorphic(\"egg\", \"add\")"
   ]
  },
  {
   "cell_type": "markdown",
   "id": "a167ee0c",
   "metadata": {},
   "source": [
    "# 💡 **Question 2**\n",
    "\n",
    "Given a string num which represents an integer, return true *if* num *is a **strobogrammatic number***.\n",
    "\n",
    "A **strobogrammatic number** is a number that looks the same when rotated 180 degrees (looked at upside down).\n",
    "\n",
    "**Example 1:**\n",
    "\n",
    "**Input:** num = \"69\"\n",
    "\n",
    "**Output:**\n",
    "\n",
    "true"
   ]
  },
  {
   "cell_type": "code",
   "execution_count": 27,
   "id": "819d1cc0",
   "metadata": {},
   "outputs": [],
   "source": [
    "def strobogrammatic_number(string):\n",
    "    strobogrammatic_number = [0, 1, 6, 8, 9]\n",
    "    count = 0\n",
    "    for char in string:\n",
    "        if int(char) in strobogrammatic_number:\n",
    "            count += 1\n",
    "    if count == len(string):\n",
    "        return True\n",
    "    else:\n",
    "        return False"
   ]
  },
  {
   "cell_type": "code",
   "execution_count": 28,
   "id": "cc06dc38",
   "metadata": {},
   "outputs": [
    {
     "data": {
      "text/plain": [
       "True"
      ]
     },
     "execution_count": 28,
     "metadata": {},
     "output_type": "execute_result"
    }
   ],
   "source": [
    "strobogrammatic_number(\"69\")"
   ]
  },
  {
   "cell_type": "code",
   "execution_count": 29,
   "id": "dd639456",
   "metadata": {},
   "outputs": [
    {
     "data": {
      "text/plain": [
       "True"
      ]
     },
     "execution_count": 29,
     "metadata": {},
     "output_type": "execute_result"
    }
   ],
   "source": [
    "strobogrammatic_number(\"19\")"
   ]
  },
  {
   "cell_type": "markdown",
   "id": "2bd60d2c",
   "metadata": {},
   "source": [
    "# 💡 **Question 3**\n",
    "\n",
    "Given two non-negative integers, num1 and num2 represented as string, return *the sum of* num1 *and* num2 *as a string*.\n",
    "\n",
    "You must solve the problem without using any built-in library for handling large integers (such as BigInteger). You must also not convert the inputs to integers directly.\n",
    "\n",
    "**Example 1:**\n",
    "\n",
    "**Input:** num1 = \"11\", num2 = \"123\"\n",
    "\n",
    "**Output:**\n",
    "\n",
    "\"134\""
   ]
  },
  {
   "cell_type": "code",
   "execution_count": 592,
   "id": "940ba68b",
   "metadata": {},
   "outputs": [],
   "source": [
    "def sum_of_string(num1, num2):\n",
    "    num1 = list(num1)\n",
    "    num2 = list(num2)\n",
    "    new_num = []\n",
    "    def sum(num, second_num):\n",
    "        carry = 0\n",
    "        length = len(num)\n",
    "        for i in range(1, length+1):\n",
    "            if second_num:\n",
    "                sum_num = int(num.pop()) + int(second_num.pop())\n",
    "                sum_num = str(int(str(sum_num))+carry)\n",
    "                new_num.insert(0, sum_num[-1])\n",
    "                carry = 0\n",
    "                if len(str(sum_num)) == 2:\n",
    "                    carry = int(str(sum_num)[0])\n",
    "                    if i == length:\n",
    "                        new_num.insert(0, str(carry))\n",
    "            else:\n",
    "                sum_num = num.pop()\n",
    "                sum_num = str(int(str(sum_num)[-1])+carry)\n",
    "                new_num.insert(0, sum_num[-1])\n",
    "                carry = 0\n",
    "                if len(str(sum_num)) == 2:\n",
    "                    carry = int(str(sum_num)[0])\n",
    "                    if i == length:\n",
    "                        new_num.insert(0, str(carry))\n",
    "                        \n",
    "    if len(num1) > len(num2):\n",
    "        if num2.count(\"0\") == 1 and len(num2) == 1:\n",
    "            return \"\".join(num1)\n",
    "        else:\n",
    "            sum(num1, num2)\n",
    "    elif len(num2) > len(num1):\n",
    "        if num1.count(\"0\") == 1 and len(num1) == 1:\n",
    "            return \"\".join(num2)\n",
    "        else:\n",
    "            sum(num2, num1)\n",
    "    elif len(num1) == 1 and len(num2)==1:\n",
    "        new_num = str(int(num1[0]) + int(num2[0]))\n",
    "    elif len(num1) == len(num2):\n",
    "        sum(num1, num2)\n",
    "    return \"\".join(new_num)"
   ]
  },
  {
   "cell_type": "code",
   "execution_count": 593,
   "id": "3a3fcedc",
   "metadata": {},
   "outputs": [
    {
     "data": {
      "text/plain": [
       "'134'"
      ]
     },
     "execution_count": 593,
     "metadata": {},
     "output_type": "execute_result"
    }
   ],
   "source": [
    "sum_of_string(\"11\", \"123\")"
   ]
  },
  {
   "cell_type": "markdown",
   "id": "66819aab",
   "metadata": {},
   "source": [
    "# 💡 **Question 4**\n",
    "\n",
    "Given a string s, reverse the order of characters in each word within a sentence while still preserving whitespace and initial word order.\n",
    "\n",
    "**Example 1:**\n",
    "\n",
    "**Input:** s = \"Let's take LeetCode contest\"\n",
    "\n",
    "**Output:** \"s'teL ekat edoCteeL tsetnoc\""
   ]
  },
  {
   "cell_type": "code",
   "execution_count": 60,
   "id": "8b5beacf",
   "metadata": {},
   "outputs": [],
   "source": [
    "def string_reverse(string):\n",
    "    new_string = \"\"\n",
    "    string_list = string.split(\" \")\n",
    "    for word in string_list:\n",
    "        new_string += word[::-1] + \" \"\n",
    "    return new_string"
   ]
  },
  {
   "cell_type": "code",
   "execution_count": 61,
   "id": "2cbc9d32",
   "metadata": {},
   "outputs": [
    {
     "data": {
      "text/plain": [
       "\"s'teL ekat edoCteeL tsetnoc \""
      ]
     },
     "execution_count": 61,
     "metadata": {},
     "output_type": "execute_result"
    }
   ],
   "source": [
    "string_reverse(\"Let's take LeetCode contest\")"
   ]
  },
  {
   "cell_type": "markdown",
   "id": "d755c0a6",
   "metadata": {},
   "source": [
    "# 💡 **Question 5**\n",
    "\n",
    "Given a string s and an integer k, reverse the first k characters for every 2k characters counting from the start of the string.\n",
    "\n",
    "If there are fewer than k characters left, reverse all of them. If there are less than 2k but greater than or equal to k characters, then reverse the first k characters and leave the other as original.\n",
    "\n",
    "**Example 1:**\n",
    "\n",
    "**Input:** s = \"abcdefg\", k = 2\n",
    "\n",
    "**Output:**\n",
    "\n",
    "\"bacdfeg\""
   ]
  },
  {
   "cell_type": "code",
   "execution_count": 106,
   "id": "3b2096f1",
   "metadata": {},
   "outputs": [],
   "source": [
    "def string_k(string, k):\n",
    "    new_string = \"\"\n",
    "    count = 0\n",
    "    flag = True\n",
    "    for i, char in enumerate(string):\n",
    "        if i % k == 0:\n",
    "            if flag:\n",
    "                new_string += string[i:i+k][::-1]\n",
    "                flag = False\n",
    "            else:\n",
    "                new_string += string[i:i+k]\n",
    "                flag = True\n",
    "    return new_string"
   ]
  },
  {
   "cell_type": "code",
   "execution_count": 108,
   "id": "1142ec80",
   "metadata": {},
   "outputs": [
    {
     "data": {
      "text/plain": [
       "'cbadefg'"
      ]
     },
     "execution_count": 108,
     "metadata": {},
     "output_type": "execute_result"
    }
   ],
   "source": [
    "string_k(\"abcdefg\", 3)"
   ]
  },
  {
   "cell_type": "markdown",
   "id": "4dc6339d",
   "metadata": {},
   "source": [
    "# 💡 **Question 6**\n",
    "\n",
    "Given two strings s and goal, return true *if and only if* s *can become* goal *after some number of **shifts** on* s.\n",
    "\n",
    "A **shift** on s consists of moving the leftmost character of s to the rightmost position.\n",
    "\n",
    "- For example, if s = \"abcde\", then it will be \"bcdea\" after one shift.\n",
    "\n",
    "**Example 1:**\n",
    "\n",
    "**Input:** s = \"abcde\", goal = \"cdeab\"\n",
    "\n",
    "**Output:**\n",
    "\n",
    "true"
   ]
  },
  {
   "cell_type": "code",
   "execution_count": 3,
   "id": "c5711d6d",
   "metadata": {},
   "outputs": [],
   "source": [
    "def shift_check(s, goal):\n",
    "    if len(s) == len(goal):\n",
    "        for i in range(len(s)):\n",
    "            string1 = s[:i]\n",
    "            string2 = s[i:] + string1\n",
    "            if string2 == goal:\n",
    "                return True\n",
    "        return False\n",
    "    else:\n",
    "        return False"
   ]
  },
  {
   "cell_type": "code",
   "execution_count": 8,
   "id": "da744348",
   "metadata": {},
   "outputs": [
    {
     "data": {
      "text/plain": [
       "True"
      ]
     },
     "execution_count": 8,
     "metadata": {},
     "output_type": "execute_result"
    }
   ],
   "source": [
    "shift_check(s = \"abcde\", goal = \"cdeab\")"
   ]
  },
  {
   "cell_type": "markdown",
   "id": "50f1a9ca",
   "metadata": {},
   "source": [
    "# 💡 **Question 7**\n",
    "\n",
    "Given two strings s and t, return true *if they are equal when both are typed into empty text editors*. '#' means a backspace character.\n",
    "\n",
    "Note that after backspacing an empty text, the text will continue empty.\n",
    "\n",
    "**Example 1:**\n",
    "\n",
    "**Input:** s = \"ab#c\", t = \"ad#c\"\n",
    "\n",
    "**Output:** true\n",
    "\n",
    "**Explanation:**\n",
    "\n",
    "Both s and t become \"ac\"."
   ]
  },
  {
   "cell_type": "code",
   "execution_count": 96,
   "id": "8bc3ae1b",
   "metadata": {},
   "outputs": [],
   "source": [
    "def backspace_check(s, t):\n",
    "    def update_list(string):\n",
    "        string = list(string)\n",
    "        new_list = []\n",
    "        for i in range(len(string)):\n",
    "            if string[i] == \"#\":\n",
    "                if new_list:\n",
    "                    new_list.pop()\n",
    "            else:\n",
    "                new_list.append(string[i])\n",
    "        return new_list\n",
    "    s = update_list(s)\n",
    "    t = update_list(t)\n",
    "    if s == t:\n",
    "        return True\n",
    "    else:\n",
    "        return False\n",
    "    "
   ]
  },
  {
   "cell_type": "code",
   "execution_count": 97,
   "id": "94c0d3be",
   "metadata": {},
   "outputs": [
    {
     "data": {
      "text/plain": [
       "True"
      ]
     },
     "execution_count": 97,
     "metadata": {},
     "output_type": "execute_result"
    }
   ],
   "source": [
    "backspace_check(s = \"ab#c\", t = \"ad#c\")"
   ]
  },
  {
   "cell_type": "markdown",
   "id": "d75ead72",
   "metadata": {},
   "source": [
    "# 💡 **Question 8**\n",
    "\n",
    "You are given an array coordinates, coordinates[i] = [x, y], where [x, y] represents the coordinate of a point. Check if these points make a straight line in the XY plane.\n",
    "\n",
    "**Example 1:**\n",
    "\n",
    "\n",
    "**Input:** coordinates = [[1,2],[2,3],[3,4],[4,5],[5,6],[6,7]]\n",
    "\n",
    "**Output:** true"
   ]
  },
  {
   "cell_type": "code",
   "execution_count": 189,
   "id": "3857dd3d",
   "metadata": {},
   "outputs": [],
   "source": [
    "def coordinate_check(coordinates):\n",
    "    slope = []\n",
    "    for i, li in enumerate(coordinates):\n",
    "        if i != len(coordinates)-1:\n",
    "            try:\n",
    "                m = (coordinates[i+1][0]-coordinates[i][0])/(coordinates[i+1][1]-coordinates[i][1])\n",
    "                slope.append(m)\n",
    "            except:\n",
    "                slope.append(float(\"inf\"))\n",
    "    if slope.count(slope[0]) == len(coordinates)-1:\n",
    "        return True\n",
    "    else:\n",
    "        return False"
   ]
  },
  {
   "cell_type": "code",
   "execution_count": 191,
   "id": "163248b6",
   "metadata": {},
   "outputs": [
    {
     "data": {
      "text/plain": [
       "True"
      ]
     },
     "execution_count": 191,
     "metadata": {},
     "output_type": "execute_result"
    }
   ],
   "source": [
    "coordinate_check([[1,2],[2,3],[3,4],[4,5],[5,6],[6,7]])"
   ]
  },
  {
   "cell_type": "code",
   "execution_count": null,
   "id": "2acb1c4f",
   "metadata": {},
   "outputs": [],
   "source": []
  }
 ],
 "metadata": {
  "kernelspec": {
   "display_name": "Python 3 (ipykernel)",
   "language": "python",
   "name": "python3"
  },
  "language_info": {
   "codemirror_mode": {
    "name": "ipython",
    "version": 3
   },
   "file_extension": ".py",
   "mimetype": "text/x-python",
   "name": "python",
   "nbconvert_exporter": "python",
   "pygments_lexer": "ipython3",
   "version": "3.8.16"
  }
 },
 "nbformat": 4,
 "nbformat_minor": 5
}
